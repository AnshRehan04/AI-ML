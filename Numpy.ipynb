{
 "cells": [
  {
   "cell_type": "code",
   "execution_count": 7,
   "id": "859b5a10-74de-4dfe-baa1-4b2cbd8c7bec",
   "metadata": {},
   "outputs": [],
   "source": [
    "import numpy as np"
   ]
  },
  {
   "cell_type": "code",
   "execution_count": 8,
   "id": "17a30dba-033b-4058-9e8f-f6d231abbb8d",
   "metadata": {},
   "outputs": [
    {
     "name": "stdout",
     "output_type": "stream",
     "text": [
      "[1 2 3 4]\n",
      "<class 'numpy.ndarray'>\n"
     ]
    }
   ],
   "source": [
    "x=np.array([1,2,3,4])\n",
    "print(x)\n",
    "print(type(x))\n"
   ]
  },
  {
   "cell_type": "code",
   "execution_count": 9,
   "id": "dfd54e23-936f-4be8-a3eb-4ce40d3e7908",
   "metadata": {},
   "outputs": [
    {
     "name": "stdout",
     "output_type": "stream",
     "text": [
      "1.26.3\n"
     ]
    }
   ],
   "source": [
    "import numpy as np\n",
    "print(np.__version__)"
   ]
  },
  {
   "cell_type": "code",
   "execution_count": 22,
   "id": "0bc15765-9b19-4ccc-8234-90a854ec93b3",
   "metadata": {},
   "outputs": [],
   "source": [
    "# %%timeit :It is an important function that tells us how much time is consume to make a list or arrays"
   ]
  },
  {
   "cell_type": "code",
   "execution_count": 12,
   "id": "b01dccc0-a0e6-4d10-891f-cf1e8ab3e4b8",
   "metadata": {},
   "outputs": [
    {
     "name": "stdout",
     "output_type": "stream",
     "text": [
      "2.52 µs ± 290 ns per loop (mean ± std. dev. of 7 runs, 1,000,000 loops each)\n"
     ]
    }
   ],
   "source": [
    "%timeit [j**4 for j in range(1,10)]"
   ]
  },
  {
   "cell_type": "markdown",
   "id": "933e2ae9-24e7-4dee-968e-850b3e2f8917",
   "metadata": {},
   "source": [
    "# NumPy Creating Arrays"
   ]
  },
  {
   "cell_type": "code",
   "execution_count": 3,
   "id": "02f26ccd-83f0-46d8-96bf-70b7d90124af",
   "metadata": {},
   "outputs": [
    {
     "name": "stdout",
     "output_type": "stream",
     "text": [
      "[1 2 3]\n",
      "1\n"
     ]
    }
   ],
   "source": [
    "import numpy as np\n",
    "x=np.array([1,2,3])\n",
    "print(x)\n",
    "print(x.ndim)"
   ]
  },
  {
   "cell_type": "code",
   "execution_count": 17,
   "id": "665e9a13-73ae-4ab9-be0a-440fa90bdfe8",
   "metadata": {},
   "outputs": [
    {
     "name": "stdout",
     "output_type": "stream",
     "text": [
      "[2 3 4 5]\n"
     ]
    },
    {
     "data": {
      "text/plain": [
       "array([2, 3, 4, 5])"
      ]
     },
     "execution_count": 17,
     "metadata": {},
     "output_type": "execute_result"
    }
   ],
   "source": [
    "y=[2,3,4,5]\n",
    "y=np.array(y)\n",
    "print(y)\n",
    "y"
   ]
  },
  {
   "cell_type": "markdown",
   "id": "40aeb454-126f-4ea7-8b38-33fe756523f7",
   "metadata": {},
   "source": [
    "# Taking array as input from user"
   ]
  },
  {
   "cell_type": "code",
   "execution_count": 2,
   "id": "97a25dcf-d812-43ed-975f-f9dc2140e1b8",
   "metadata": {},
   "outputs": [
    {
     "name": "stdin",
     "output_type": "stream",
     "text": [
      "Enter elements: 1\n",
      "Enter elements: 2\n",
      "Enter elements: 3\n",
      "Enter elements: 4\n"
     ]
    },
    {
     "name": "stdout",
     "output_type": "stream",
     "text": [
      "[1 2 3 4]\n"
     ]
    }
   ],
   "source": [
    "import numpy as np\n",
    "list=[]\n",
    "for i in range(1,5):\n",
    "    ele=int(input(\"Enter elements:\"))\n",
    "    list.append(ele)\n",
    "    \n",
    "print(np.array(list))\n"
   ]
  },
  {
   "cell_type": "markdown",
   "id": "f8f4f340-9783-4cf4-9926-538fe4c65ac3",
   "metadata": {},
   "source": [
    "# 2D arrays"
   ]
  },
  {
   "cell_type": "code",
   "execution_count": 5,
   "id": "f9df5d91-fc9e-4996-81a6-6c7edd4cef51",
   "metadata": {},
   "outputs": [
    {
     "name": "stdout",
     "output_type": "stream",
     "text": [
      "[[1 2 3 4]\n",
      " [1 2 3 4]]\n",
      "2\n"
     ]
    }
   ],
   "source": [
    "import numpy as np\n",
    "x=np.array([[1,2,3,4],[1,2,3,4]])\n",
    "print(x)\n",
    "print(x.ndim)"
   ]
  },
  {
   "cell_type": "markdown",
   "id": "5e25c901-538f-427c-8adb-3d327f5bc0bf",
   "metadata": {},
   "source": [
    "# 3D arrays"
   ]
  },
  {
   "cell_type": "code",
   "execution_count": 7,
   "id": "00dc5213-6a22-4341-87c7-d3039bf953f7",
   "metadata": {},
   "outputs": [
    {
     "name": "stdout",
     "output_type": "stream",
     "text": [
      "[[[1 2 3 4]\n",
      "  [1 2 3 4]\n",
      "  [1 2 3 4]]]\n",
      "3\n"
     ]
    }
   ],
   "source": [
    "import numpy as np\n",
    "x=np.array([[[1,2,3,4],[1,2,3,4],[1,2,3,4]]])\n",
    "print(x)\n",
    "print(x.ndim)"
   ]
  },
  {
   "cell_type": "markdown",
   "id": "f0c2a18e-9d31-4442-b25e-5639f3ac2a1e",
   "metadata": {},
   "source": [
    "# Creating N/multi-dimensions arrays"
   ]
  },
  {
   "cell_type": "code",
   "execution_count": 10,
   "id": "d96c20c8-45b8-47ca-bf96-2e855b18576e",
   "metadata": {},
   "outputs": [
    {
     "name": "stdout",
     "output_type": "stream",
     "text": [
      "[[[[[[[[[[1 2 3]]]]]]]]]]\n",
      "10\n"
     ]
    }
   ],
   "source": [
    "arr=np.array([1,2,3],ndmin=10)\n",
    "print(arr)\n",
    "print(arr.ndim)"
   ]
  },
  {
   "cell_type": "code",
   "execution_count": 5,
   "id": "1aeb1cbd-ac75-4a57-b38d-421ce20371ed",
   "metadata": {},
   "outputs": [
    {
     "name": "stdout",
     "output_type": "stream",
     "text": [
      "2\n",
      "0\n",
      "()\n"
     ]
    }
   ],
   "source": [
    "import numpy as np\n",
    "y=np.array(2)\n",
    "print(y)\n",
    "print(y.ndim)\n",
    "print(y.shape)"
   ]
  },
  {
   "cell_type": "markdown",
   "id": "63588ca7-bded-4560-9893-e7cf16d976a9",
   "metadata": {},
   "source": [
    "# Zeroes"
   ]
  },
  {
   "cell_type": "code",
   "execution_count": 2,
   "id": "5be70779-f972-4136-a23a-24faeead9441",
   "metadata": {},
   "outputs": [],
   "source": [
    "import numpy as np"
   ]
  },
  {
   "cell_type": "code",
   "execution_count": 4,
   "id": "c7169868-fccf-4134-950a-22b9814d5516",
   "metadata": {},
   "outputs": [
    {
     "name": "stdout",
     "output_type": "stream",
     "text": [
      "[0. 0. 0. 0.]\n"
     ]
    }
   ],
   "source": [
    "ar_zeros=np.zeros(4)\n",
    "print(ar_zeros)"
   ]
  },
  {
   "cell_type": "code",
   "execution_count": 5,
   "id": "1b826d5c-f0fc-4ba4-9d28-3b3a998a8d11",
   "metadata": {},
   "outputs": [
    {
     "name": "stdout",
     "output_type": "stream",
     "text": [
      "[[0. 0.]\n",
      " [0. 0.]]\n"
     ]
    }
   ],
   "source": [
    "# To create 2D array with all elements zeros.\n",
    "ar_zeros1=np.zeros((2,2))\n",
    "print(ar_zeros1)"
   ]
  },
  {
   "cell_type": "code",
   "execution_count": 6,
   "id": "449ae3e3-c7a7-4482-bff1-57482f79adbd",
   "metadata": {},
   "outputs": [
    {
     "name": "stdout",
     "output_type": "stream",
     "text": [
      "[[0. 0.]\n",
      " [0. 0.]\n",
      " [0. 0.]]\n"
     ]
    }
   ],
   "source": [
    "# To create 2D array with all elements zeros.\n",
    "ar_zeros1=np.zeros((3,2))\n",
    "print(ar_zeros1)"
   ]
  },
  {
   "cell_type": "markdown",
   "id": "e67aa757-4b09-42e5-9885-562e99e5df39",
   "metadata": {},
   "source": [
    "# Ones"
   ]
  },
  {
   "cell_type": "code",
   "execution_count": 7,
   "id": "feacc8e2-ca26-4f35-832e-f737ebac8860",
   "metadata": {},
   "outputs": [
    {
     "name": "stdout",
     "output_type": "stream",
     "text": [
      "[1. 1. 1. 1.]\n"
     ]
    }
   ],
   "source": [
    "arr_ones=np.ones(4)\n",
    "print(arr_ones)"
   ]
  },
  {
   "cell_type": "code",
   "execution_count": 8,
   "id": "cbc9c589-07be-4894-aab5-b654e49ad6f6",
   "metadata": {},
   "outputs": [
    {
     "name": "stdout",
     "output_type": "stream",
     "text": [
      "[[1. 1. 1.]\n",
      " [1. 1. 1.]]\n"
     ]
    }
   ],
   "source": [
    "#To create 2D array with all elements ones. \n",
    "arr_ones1=np.ones((2,3))\n",
    "print(arr_ones1)"
   ]
  },
  {
   "cell_type": "markdown",
   "id": "9f194a50-bb58-4d15-971d-da64a23e8756",
   "metadata": {},
   "source": [
    "# Empty"
   ]
  },
  {
   "cell_type": "code",
   "execution_count": 3,
   "id": "f6a47705-487d-4073-a6c1-95a4a0f7cb06",
   "metadata": {},
   "outputs": [
    {
     "name": "stdout",
     "output_type": "stream",
     "text": [
      "[0.00000000e+000 1.56870079e-311 1.56870079e-311 1.56870079e-311]\n"
     ]
    }
   ],
   "source": [
    "arr_em=np.empty(4)\n",
    "print(arr_em)"
   ]
  },
  {
   "cell_type": "markdown",
   "id": "1351070e-5768-4501-8a59-6ebbbc54eecd",
   "metadata": {},
   "source": [
    "# Range"
   ]
  },
  {
   "cell_type": "code",
   "execution_count": 11,
   "id": "8274d190-4056-4dfa-8220-6b35a202ceaa",
   "metadata": {},
   "outputs": [
    {
     "name": "stdout",
     "output_type": "stream",
     "text": [
      "[0 1 2 3]\n"
     ]
    }
   ],
   "source": [
    "arr_range=np.arange(4)\n",
    "print(arr_range)"
   ]
  },
  {
   "cell_type": "markdown",
   "id": "5d7a94d8-5fd0-46c1-94ec-8c99ee679b6b",
   "metadata": {},
   "source": [
    "# Identity Matrixs"
   ]
  },
  {
   "cell_type": "code",
   "execution_count": 17,
   "id": "824dd181-a446-4778-b48c-016808034554",
   "metadata": {},
   "outputs": [
    {
     "name": "stdout",
     "output_type": "stream",
     "text": [
      "[[1. 0. 0.]\n",
      " [0. 1. 0.]\n",
      " [0. 0. 1.]]\n",
      "[[1. 0.]\n",
      " [0. 1.]]\n"
     ]
    }
   ],
   "source": [
    "arr_iden=np.identity(3)\n",
    "print(arr_iden)\n",
    "\n",
    "arr_iden=np.eye(2)\n",
    "print(arr_iden)"
   ]
  },
  {
   "cell_type": "markdown",
   "id": "df67d0e5-f813-4d97-ac20-6771f4cc2d29",
   "metadata": {},
   "source": [
    "# Linespace"
   ]
  },
  {
   "cell_type": "code",
   "execution_count": 18,
   "id": "53d2fef1-839d-4f73-aace-cab3aed16eee",
   "metadata": {},
   "outputs": [
    {
     "name": "stdout",
     "output_type": "stream",
     "text": [
      "[ 0.  5. 10. 15. 20.]\n"
     ]
    }
   ],
   "source": [
    "arr_lin=np.linspace(0,20,5)\n",
    "print(arr_lin)"
   ]
  },
  {
   "cell_type": "markdown",
   "id": "aa402c38-6735-48f6-8cca-1c29e8544b07",
   "metadata": {},
   "source": [
    "# Random"
   ]
  },
  {
   "cell_type": "markdown",
   "id": "fb116bca-5dbd-4c9e-882d-ff4a8f0d97e3",
   "metadata": {},
   "source": [
    "# rand"
   ]
  },
  {
   "cell_type": "code",
   "execution_count": 20,
   "id": "ef8d3218-359f-4426-be39-690660e8b682",
   "metadata": {},
   "outputs": [],
   "source": [
    "import numpy as np"
   ]
  },
  {
   "cell_type": "code",
   "execution_count": 22,
   "id": "de11babd-c88e-448d-ab28-bb199461c02d",
   "metadata": {},
   "outputs": [
    {
     "name": "stdout",
     "output_type": "stream",
     "text": [
      "[0.57205126 0.47456812 0.2314169  0.73821286]\n"
     ]
    }
   ],
   "source": [
    "var=np.random.rand(4)\n",
    "print(var)"
   ]
  },
  {
   "cell_type": "code",
   "execution_count": 23,
   "id": "d13020b4-3d44-4016-86d3-b48a9e857e78",
   "metadata": {},
   "outputs": [
    {
     "name": "stdout",
     "output_type": "stream",
     "text": [
      "[[0.52350357 0.50720346]\n",
      " [0.47685944 0.76631377]]\n"
     ]
    }
   ],
   "source": [
    "# To create 2d array\n",
    "var1=np.random.rand(2,2)\n",
    "print(var1)"
   ]
  },
  {
   "cell_type": "markdown",
   "id": "9b023cf0-5261-44c4-b5b1-157995daa9e6",
   "metadata": {},
   "source": [
    "# Randn()"
   ]
  },
  {
   "cell_type": "code",
   "execution_count": 29,
   "id": "73d5aaf1-4008-4216-b3d2-85882d4f3594",
   "metadata": {},
   "outputs": [
    {
     "name": "stdout",
     "output_type": "stream",
     "text": [
      "[-0.90314623  0.63109362 -0.28149781 -1.31443763]\n"
     ]
    }
   ],
   "source": [
    "var_ran=np.random.randn(4)\n",
    "print(var_ran)"
   ]
  },
  {
   "cell_type": "markdown",
   "id": "8cf8d412-2e93-4bed-b0ce-654c97d93e91",
   "metadata": {},
   "source": [
    "# Ranf()"
   ]
  },
  {
   "cell_type": "code",
   "execution_count": 31,
   "id": "6a7215a2-aa02-45ca-8140-a969aed2271e",
   "metadata": {},
   "outputs": [
    {
     "name": "stdout",
     "output_type": "stream",
     "text": [
      "[0.42441232 0.83369153 0.53100732 0.93437119]\n"
     ]
    }
   ],
   "source": [
    "var3=np.random.ranf(4)\n",
    "print(var3)"
   ]
  },
  {
   "cell_type": "markdown",
   "id": "53b53aee-09de-4db1-8084-f531a90efdf5",
   "metadata": {},
   "source": [
    "# Randint()"
   ]
  },
  {
   "cell_type": "code",
   "execution_count": 32,
   "id": "7157256a-c1c3-414f-a217-e460139485eb",
   "metadata": {},
   "outputs": [
    {
     "name": "stdout",
     "output_type": "stream",
     "text": [
      "[0 2 0 3 1]\n"
     ]
    }
   ],
   "source": [
    "# var4=np.random.randint(min,max,total_value)\n",
    "var4=np.random.randint(0,5,5)\n",
    "print(var4)"
   ]
  },
  {
   "cell_type": "code",
   "execution_count": 33,
   "id": "73c41bdc-d641-47d7-8536-2d8fdbac7e8e",
   "metadata": {},
   "outputs": [
    {
     "name": "stdout",
     "output_type": "stream",
     "text": [
      "[2 2 1 0 2 0]\n"
     ]
    }
   ],
   "source": [
    "var4=np.random.randint(0,5,6)\n",
    "print(var4)"
   ]
  },
  {
   "cell_type": "markdown",
   "id": "c096068c-9611-42e1-900f-4247f48105a0",
   "metadata": {},
   "source": [
    "# Datatype"
   ]
  },
  {
   "cell_type": "code",
   "execution_count": 34,
   "id": "88d3fbe3-f230-4bb1-897b-3b6114ae8102",
   "metadata": {},
   "outputs": [],
   "source": [
    "import numpy as np"
   ]
  },
  {
   "cell_type": "code",
   "execution_count": 36,
   "id": "cf4ffcbe-27d1-44c5-9979-b96d6990391a",
   "metadata": {},
   "outputs": [
    {
     "name": "stdout",
     "output_type": "stream",
     "text": [
      "Datatype: int32\n"
     ]
    }
   ],
   "source": [
    "a=np.array([1,2,3,4])\n",
    "print(\"Datatype:\",a.dtype)"
   ]
  },
  {
   "cell_type": "code",
   "execution_count": 37,
   "id": "f339c56b-3ffb-46ee-9810-6f561c1b658c",
   "metadata": {},
   "outputs": [
    {
     "name": "stdout",
     "output_type": "stream",
     "text": [
      "Datatype: float64\n"
     ]
    }
   ],
   "source": [
    "a=np.array([1,2,3.4])\n",
    "print(\"Datatype:\",a.dtype)"
   ]
  },
  {
   "cell_type": "code",
   "execution_count": 38,
   "id": "c74f603d-cbbc-4518-982d-0722af7458da",
   "metadata": {},
   "outputs": [
    {
     "name": "stdout",
     "output_type": "stream",
     "text": [
      "Datatype: <U5\n"
     ]
    }
   ],
   "source": [
    "a=np.array([\"ansh\",\"rehan\"])\n",
    "print(\"Datatype:\",a.dtype)"
   ]
  },
  {
   "cell_type": "code",
   "execution_count": 39,
   "id": "8fc619bf-0b10-4f9a-bf42-1c290110684b",
   "metadata": {},
   "outputs": [
    {
     "name": "stdout",
     "output_type": "stream",
     "text": [
      "Datatype: <U11\n"
     ]
    }
   ],
   "source": [
    "a=np.array([1,2,\"s\"])\n",
    "print(\"Datatype:\",a.dtype)"
   ]
  },
  {
   "cell_type": "code",
   "execution_count": 40,
   "id": "46115b17-c395-4059-902e-3f28e01dda3a",
   "metadata": {},
   "outputs": [],
   "source": [
    "# Convert Datatype\n",
    "# Convert int32 into int8"
   ]
  },
  {
   "cell_type": "code",
   "execution_count": 45,
   "id": "c0891728-d5d0-4fbb-a1f7-8855b286f51d",
   "metadata": {},
   "outputs": [
    {
     "name": "stdout",
     "output_type": "stream",
     "text": [
      "Dataype: int8\n"
     ]
    }
   ],
   "source": [
    "x=np.array([1,2,3,4],dtype=np.int8)\n",
    "print(\"Dataype:\",x.dtype)"
   ]
  },
  {
   "cell_type": "code",
   "execution_count": 46,
   "id": "a6a5dabc-3f7d-4a2f-b485-b1ddc304f903",
   "metadata": {},
   "outputs": [],
   "source": [
    "# Convert int datatype into float"
   ]
  },
  {
   "cell_type": "code",
   "execution_count": 47,
   "id": "90f6dec4-6ba8-4990-9bf7-d08fcb7a4f8e",
   "metadata": {},
   "outputs": [
    {
     "name": "stdout",
     "output_type": "stream",
     "text": [
      "Dataype: float32\n"
     ]
    }
   ],
   "source": [
    "x=np.array([1,2,3,4],dtype=\"f\")\n",
    "print(\"Dataype:\",x.dtype)"
   ]
  },
  {
   "cell_type": "code",
   "execution_count": 48,
   "id": "e9423b8f-2a1d-4c4d-87ab-93f712b12b9a",
   "metadata": {},
   "outputs": [],
   "source": [
    "# Convert dataypes as a functions/"
   ]
  },
  {
   "cell_type": "code",
   "execution_count": 52,
   "id": "94bd3e86-5238-4949-9df2-cef9900a3121",
   "metadata": {},
   "outputs": [
    {
     "name": "stdout",
     "output_type": "stream",
     "text": [
      "Datatype:  int32\n",
      "Datatype:  float32\n",
      "[1. 2. 3. 4.]\n",
      "[1. 2. 3.]\n"
     ]
    }
   ],
   "source": [
    "x1=np.array([1,2,3])\n",
    "new=np.float32(x1)\n",
    "print(\"Datatype: \",x1.dtype)\n",
    "print(\"Datatype: \",new.dtype)\n",
    "print(x)\n",
    "print(new)"
   ]
  },
  {
   "cell_type": "markdown",
   "id": "ef7541e0-8388-40ca-ac1c-be0a69fb8380",
   "metadata": {},
   "source": [
    "# Arithmetic operations in array"
   ]
  },
  {
   "cell_type": "code",
   "execution_count": 2,
   "id": "42c8acf5-fd2a-475d-a531-ff26e4a21eca",
   "metadata": {},
   "outputs": [],
   "source": [
    "import numpy as np"
   ]
  },
  {
   "cell_type": "code",
   "execution_count": 3,
   "id": "74a605a6-828c-485e-8fb2-4596bf158129",
   "metadata": {},
   "outputs": [
    {
     "name": "stdout",
     "output_type": "stream",
     "text": [
      "[4 5 6]\n"
     ]
    }
   ],
   "source": [
    "arr1=np.array([1,2,3])\n",
    "var_add=arr1+3\n",
    "print(var_add)"
   ]
  },
  {
   "cell_type": "code",
   "execution_count": 10,
   "id": "64582919-6e0f-49c5-9680-b2f2d7b83fe3",
   "metadata": {},
   "outputs": [
    {
     "name": "stdout",
     "output_type": "stream",
     "text": [
      "[2 4 6]\n"
     ]
    }
   ],
   "source": [
    "# Using numpy functions.\n",
    "arr1=np.array([1,2,3])\n",
    "arr2=np.array([1,2,3])\n",
    "var_add=np.add(arr1,arr2)\n",
    "print(var_add)"
   ]
  },
  {
   "cell_type": "code",
   "execution_count": 4,
   "id": "6e71f042-480d-46d3-a124-898757f88d0c",
   "metadata": {},
   "outputs": [
    {
     "name": "stdout",
     "output_type": "stream",
     "text": [
      "[2 4 6]\n"
     ]
    }
   ],
   "source": [
    "arr1=np.array([1,2,3])\n",
    "arr2=np.array([1,2,3])\n",
    "var_add=arr1+arr2\n",
    "print(var_add)"
   ]
  },
  {
   "cell_type": "code",
   "execution_count": 5,
   "id": "18f77d1c-7004-4df6-8d69-cde633ae6929",
   "metadata": {},
   "outputs": [
    {
     "name": "stdout",
     "output_type": "stream",
     "text": [
      "[-2 -1  0]\n"
     ]
    }
   ],
   "source": [
    "arr1=np.array([1,2,3])\n",
    "var_diff=arr1-3\n",
    "print(var_diff)"
   ]
  },
  {
   "cell_type": "code",
   "execution_count": 13,
   "id": "a899c488-65c9-461a-9ea7-38355c804828",
   "metadata": {},
   "outputs": [
    {
     "name": "stdout",
     "output_type": "stream",
     "text": [
      "[0 0 0]\n"
     ]
    }
   ],
   "source": [
    "arr1=np.array([1,2,3])\n",
    "arr2=np.array([1,2,3])\n",
    "var_add=np.subtract(arr1,arr2)\n",
    "print(var_add)"
   ]
  },
  {
   "cell_type": "code",
   "execution_count": 6,
   "id": "fd24fa9f-16fc-480d-8866-35b0ee91cd39",
   "metadata": {},
   "outputs": [
    {
     "name": "stdout",
     "output_type": "stream",
     "text": [
      "[3 6 9]\n"
     ]
    }
   ],
   "source": [
    "arr1=np.array([1,2,3])\n",
    "var_mul=arr1*3\n",
    "print(var_mul)"
   ]
  },
  {
   "cell_type": "code",
   "execution_count": 7,
   "id": "55ba9fe3-681f-48cf-a31f-70775b52c10f",
   "metadata": {},
   "outputs": [
    {
     "name": "stdout",
     "output_type": "stream",
     "text": [
      "[1 2 0]\n"
     ]
    }
   ],
   "source": [
    "arr1=np.array([1,2,3])\n",
    "var_mod=arr1%3\n",
    "print(var_mod)"
   ]
  },
  {
   "cell_type": "code",
   "execution_count": 8,
   "id": "0ab5be84-0d5c-4c24-9f11-0d661ec7fde5",
   "metadata": {},
   "outputs": [
    {
     "name": "stdout",
     "output_type": "stream",
     "text": [
      "[0.33333333 0.66666667 1.        ]\n"
     ]
    }
   ],
   "source": [
    "arr1=np.array([1,2,3])\n",
    "var_div=arr1/3\n",
    "print(var_div)"
   ]
  },
  {
   "cell_type": "markdown",
   "id": "f2bec3cc-94e6-49ab-b5e4-97e978cb808b",
   "metadata": {},
   "source": [
    "# 2D array"
   ]
  },
  {
   "cell_type": "code",
   "execution_count": 20,
   "id": "a56479f2-44ce-426d-8f01-f91c348ee375",
   "metadata": {},
   "outputs": [
    {
     "name": "stdout",
     "output_type": "stream",
     "text": [
      "[[2 4 6]\n",
      " [3 5 7]]\n"
     ]
    }
   ],
   "source": [
    "arr21=np.array([[1,2,3],[1,2,3]])\n",
    "arr22=np.array([[1,2,3],[2,3,4]])\n",
    "var_add=arr21+arr22\n",
    "print(var_add)"
   ]
  },
  {
   "cell_type": "markdown",
   "id": "0bb0b52e-1f6c-47dd-90b3-c16a8b0de5a1",
   "metadata": {},
   "source": [
    "# Arithmetic Functions in NumPy Arrays"
   ]
  },
  {
   "cell_type": "code",
   "execution_count": 35,
   "id": "bab91c3d-3860-40b6-9a8d-c620a5091482",
   "metadata": {},
   "outputs": [
    {
     "name": "stdout",
     "output_type": "stream",
     "text": [
      "Min: 1\n",
      "Max: 34\n",
      "sqrt [1.         1.41421356 5.83095189 2.        ]\n"
     ]
    }
   ],
   "source": [
    "var1=np.array([1,2,34,4])\n",
    "print(\"Min:\",np.min(var1))\n",
    "print(\"Max:\",np.max(var1))\n",
    "print(\"sqrt\",np.sqrt(var1))"
   ]
  },
  {
   "cell_type": "code",
   "execution_count": 26,
   "id": "a78bdbce-bf44-4fc2-b119-65c743793d31",
   "metadata": {},
   "outputs": [
    {
     "name": "stdout",
     "output_type": "stream",
     "text": [
      "Position of min: 0\n",
      "Position of max: 2\n"
     ]
    }
   ],
   "source": [
    "print(\"Position of min:\",np.argmin(var1))\n",
    "print(\"Position of max:\",np.argmax(var1))"
   ]
  },
  {
   "cell_type": "code",
   "execution_count": 31,
   "id": "db1d5568-eb90-4d3a-9f0a-c68ed82192b3",
   "metadata": {},
   "outputs": [
    {
     "name": "stdout",
     "output_type": "stream",
     "text": [
      "[1 0]\n"
     ]
    }
   ],
   "source": [
    "var2=np.array([[1,2,4],[6,7,0]])\n",
    "print(np.min(var2,axis=1))"
   ]
  },
  {
   "cell_type": "code",
   "execution_count": 32,
   "id": "fcdcc18e-5d3b-4ea4-9a27-76d55329f105",
   "metadata": {},
   "outputs": [
    {
     "name": "stdout",
     "output_type": "stream",
     "text": [
      "[1 2 0]\n"
     ]
    }
   ],
   "source": [
    "var2=np.array([[1,2,4],[6,7,0]])\n",
    "print(np.min(var2,axis=0))"
   ]
  },
  {
   "cell_type": "code",
   "execution_count": 38,
   "id": "c3d4daad-9f99-46e2-986c-8e22a6721b54",
   "metadata": {},
   "outputs": [
    {
     "name": "stdout",
     "output_type": "stream",
     "text": [
      "Sin: [0.84147098 0.90929743 0.14112001]\n",
      "Cos: [ 0.54030231 -0.41614684 -0.9899925 ]\n"
     ]
    }
   ],
   "source": [
    "var2=np.array([1,2,3])\n",
    "print(\"Sin:\",np.sin(var2))\n",
    "print(\"Cos:\",np.cos(var2))"
   ]
  },
  {
   "cell_type": "code",
   "execution_count": 39,
   "id": "39d3835b-287a-4c80-8d6c-d37e8ed95b9e",
   "metadata": {},
   "outputs": [
    {
     "name": "stdout",
     "output_type": "stream",
     "text": [
      "Cumsum : [1 3 6]\n"
     ]
    }
   ],
   "source": [
    "print(\"Cumsum :\",np.cumsum(var2))"
   ]
  },
  {
   "cell_type": "markdown",
   "id": "b7782463-e5b0-492b-9b2f-fb9914f1418a",
   "metadata": {},
   "source": [
    "# Shape"
   ]
  },
  {
   "cell_type": "code",
   "execution_count": 43,
   "id": "8b8931ba-c168-491d-8dee-7874711aa4c2",
   "metadata": {},
   "outputs": [
    {
     "name": "stdout",
     "output_type": "stream",
     "text": [
      "[[1 2 3]\n",
      " [1 2 3]]\n",
      "\n",
      "(2, 3)\n"
     ]
    }
   ],
   "source": [
    "var=np.array([[1,2,3],[1,2,3]])\n",
    "print(var)\n",
    "print()\n",
    "print(np.shape(var))"
   ]
  },
  {
   "cell_type": "code",
   "execution_count": 47,
   "id": "e5450972-c1df-40d3-9c88-6199e62698cd",
   "metadata": {},
   "outputs": [
    {
     "name": "stdout",
     "output_type": "stream",
     "text": [
      "(1, 1, 1, 1, 1, 1, 1, 1, 1, 4)\n"
     ]
    }
   ],
   "source": [
    "var=np.array([1,2,3,4],ndmin=10)\n",
    "print(np.shape(var))"
   ]
  },
  {
   "cell_type": "markdown",
   "id": "2a9e1c53-bd48-4aa8-9e23-c97b97ebbe76",
   "metadata": {},
   "source": [
    "# Reshape"
   ]
  },
  {
   "cell_type": "code",
   "execution_count": 58,
   "id": "022623ea-8759-48d0-8a4f-3ac32428b717",
   "metadata": {},
   "outputs": [
    {
     "name": "stdout",
     "output_type": "stream",
     "text": [
      "[[1 2 3 4]\n",
      " [5 6 7 8]]\n",
      "Dim 2\n"
     ]
    }
   ],
   "source": [
    "var=np.array([1,2,3,4,5,6,7,8])\n",
    "print(var.reshape(2,4))\n",
    "x=var.reshape(2,4)\n",
    "print(\"Dim\",x.ndim)"
   ]
  },
  {
   "cell_type": "code",
   "execution_count": 56,
   "id": "8a0cfa5c-c0d8-4f67-9929-b74f3dda381f",
   "metadata": {},
   "outputs": [
    {
     "name": "stdout",
     "output_type": "stream",
     "text": [
      "Shape (8,)\n"
     ]
    }
   ],
   "source": [
    "print(\"Shape\",np.shape(var))"
   ]
  },
  {
   "cell_type": "code",
   "execution_count": 57,
   "id": "b0cd87b8-3802-4a1d-956c-3a29393a71c6",
   "metadata": {},
   "outputs": [
    {
     "name": "stdout",
     "output_type": "stream",
     "text": [
      "Dim 1\n"
     ]
    }
   ],
   "source": [
    "print(\"Dim\",var.ndim)"
   ]
  },
  {
   "cell_type": "code",
   "execution_count": 13,
   "id": "6eecc951-ae07-4fe6-ba9d-0510112edc1a",
   "metadata": {},
   "outputs": [
    {
     "name": "stdout",
     "output_type": "stream",
     "text": [
      "[ 1  2  3  5  6  7  8  9 99]\n"
     ]
    }
   ],
   "source": [
    "var=np.array([1,2,3,99,9,5,6,7,8])\n",
    "print(np.sort(var))"
   ]
  },
  {
   "cell_type": "markdown",
   "id": "407e4629-c377-432f-af8d-1e27589ff6fb",
   "metadata": {},
   "source": [
    "# Indexing"
   ]
  },
  {
   "cell_type": "code",
   "execution_count": 1,
   "id": "4c7a5c9a-8d7e-4fa4-a99c-be601b8f40b2",
   "metadata": {},
   "outputs": [
    {
     "name": "stdout",
     "output_type": "stream",
     "text": [
      "[1 2 3 4 5]\n"
     ]
    }
   ],
   "source": [
    "import numpy as np\n",
    "var=np.array([1,2,3,4,5])\n",
    "print(var)"
   ]
  },
  {
   "cell_type": "code",
   "execution_count": 5,
   "id": "84af711d-c549-42a2-b161-a4aad63575bc",
   "metadata": {},
   "outputs": [
    {
     "name": "stdout",
     "output_type": "stream",
     "text": [
      "1\n",
      "5\n",
      "4\n"
     ]
    }
   ],
   "source": [
    "print(var[0])\n",
    "print(var[4])\n",
    "print(var[-2])"
   ]
  },
  {
   "cell_type": "code",
   "execution_count": 10,
   "id": "3918d682-46c5-4379-bba5-687f7169e56b",
   "metadata": {},
   "outputs": [
    {
     "name": "stdout",
     "output_type": "stream",
     "text": [
      "[[1 2 3]\n",
      " [4 5 6]]\n",
      "\n",
      "2\n",
      "2\n"
     ]
    }
   ],
   "source": [
    "var1=np.array([[1,2,3],[4,5,6]])\n",
    "print(var1)\n",
    "print()\n",
    "print(var1[0][1])\n",
    "print(var1[0,1])"
   ]
  },
  {
   "cell_type": "code",
   "execution_count": 13,
   "id": "7c44155d-5c56-4a6e-afd7-a97caa93abaf",
   "metadata": {},
   "outputs": [
    {
     "name": "stdout",
     "output_type": "stream",
     "text": [
      "[[[1 2 3]\n",
      "  [4 5 6]]]\n",
      "\n",
      "2\n"
     ]
    }
   ],
   "source": [
    "var2=np.array([[[1,2,3],[4,5,6]]])\n",
    "print(var2)\n",
    "print()\n",
    "print(var2[0,0,1])"
   ]
  },
  {
   "cell_type": "markdown",
   "id": "d3ec4761-4319-4e7a-8e54-5f3b706aae65",
   "metadata": {},
   "source": [
    "# Slicing"
   ]
  },
  {
   "cell_type": "code",
   "execution_count": 16,
   "id": "f4e7aeae-70f6-4bf6-ad5e-30ab6589be51",
   "metadata": {},
   "outputs": [
    {
     "name": "stdout",
     "output_type": "stream",
     "text": [
      "[1 2 3]\n"
     ]
    }
   ],
   "source": [
    "var=np.array([1,2,3,4,5,6])\n",
    "print(var[0:3:1])"
   ]
  },
  {
   "cell_type": "code",
   "execution_count": 19,
   "id": "7dde9522-7b54-43a9-a96c-9ff9972e19f4",
   "metadata": {},
   "outputs": [
    {
     "name": "stdout",
     "output_type": "stream",
     "text": [
      "[6 5 4 3 2 1]\n"
     ]
    }
   ],
   "source": [
    "print(var[::-1])"
   ]
  },
  {
   "cell_type": "code",
   "execution_count": 20,
   "id": "b91b552a-38f4-4024-905a-824bd2db9fc4",
   "metadata": {},
   "outputs": [
    {
     "name": "stdout",
     "output_type": "stream",
     "text": [
      "[1 2 3 4 5 6]\n"
     ]
    }
   ],
   "source": [
    "print(var[:6])"
   ]
  },
  {
   "cell_type": "markdown",
   "id": "2cb9df46-9891-4fd9-84a5-95b870f33798",
   "metadata": {},
   "source": [
    "# Iterating"
   ]
  },
  {
   "cell_type": "code",
   "execution_count": 22,
   "id": "51da8fde-1868-43f1-8e4d-31a1a60e8fd3",
   "metadata": {},
   "outputs": [
    {
     "name": "stdout",
     "output_type": "stream",
     "text": [
      "1 2 3 4 5 6 7 8 9 "
     ]
    }
   ],
   "source": [
    "var=np.array([1,2,3,4,5,6,7,8,9])\n",
    "for i in var:\n",
    "    print(i,end=\" \")"
   ]
  },
  {
   "cell_type": "code",
   "execution_count": 31,
   "id": "09fd0edc-195d-45fb-aa47-94820e0b1aea",
   "metadata": {},
   "outputs": [
    {
     "name": "stdout",
     "output_type": "stream",
     "text": [
      "[1 2 3]\n",
      "[4 5 6]\n",
      "1 2 3 4 5 6 "
     ]
    }
   ],
   "source": [
    "var1=np.array([[1,2,3],[4,5,6]])\n",
    "for i in var1:\n",
    "    \n",
    "    # for j in var1:\n",
    "    print(i)\n",
    "# print(var.ndim)\n",
    "\n",
    "for j in var1:\n",
    "    for k in j:\n",
    "        print(k,end=\" \")"
   ]
  },
  {
   "cell_type": "code",
   "execution_count": 33,
   "id": "ea2628c5-6664-4e76-bbac-7ad29e023a52",
   "metadata": {},
   "outputs": [
    {
     "name": "stdout",
     "output_type": "stream",
     "text": [
      "[[[1 2 3 4]\n",
      "  [5 6 7 8]]]\n",
      "3\n",
      "1 2 3 4 5 6 7 8 "
     ]
    }
   ],
   "source": [
    "# For 3D array\n",
    "var2=np.array([[[1,2,3,4],[5,6,7,8]]])\n",
    "print(var2)\n",
    "print(var2.ndim)\n",
    "for i in var2:\n",
    "    for j in i:\n",
    "        for k in j:\n",
    "            print(k,end =\" \") "
   ]
  },
  {
   "cell_type": "markdown",
   "id": "3b02cfd7-b3b3-407e-994f-42e3af8fd5a0",
   "metadata": {},
   "source": [
    "# np.nditer()"
   ]
  },
  {
   "cell_type": "code",
   "execution_count": null,
   "id": "3e7f058d-514c-4061-8d21-25620e103805",
   "metadata": {},
   "outputs": [],
   "source": [
    "# nditer(var): It is used to iterate for big array by not using complex loops."
   ]
  },
  {
   "cell_type": "code",
   "execution_count": 35,
   "id": "4aad63f2-8f91-4b97-9773-6c2ad509ea54",
   "metadata": {},
   "outputs": [
    {
     "name": "stdout",
     "output_type": "stream",
     "text": [
      "1\n",
      "2\n",
      "3\n",
      "4\n",
      "5\n",
      "6\n",
      "7\n",
      "8\n"
     ]
    }
   ],
   "source": [
    "var2=np.array([[[1,2,3,4],[5,6,7,8]]])\n",
    "for i in np.nditer(var2):\n",
    "    print(i)"
   ]
  },
  {
   "cell_type": "code",
   "execution_count": 36,
   "id": "3f0e7509-a0ea-4fc5-81ec-49a331e1bf15",
   "metadata": {},
   "outputs": [],
   "source": [
    "# np.ndenumerate(var) :It gives the data and index of that data from the array."
   ]
  },
  {
   "cell_type": "code",
   "execution_count": 38,
   "id": "d172cfc3-5aad-4fda-942e-c0f8cf022db1",
   "metadata": {},
   "outputs": [
    {
     "name": "stdout",
     "output_type": "stream",
     "text": [
      "(0, 0, 0) 1\n",
      "(0, 0, 1) 2\n",
      "(0, 0, 2) 3\n",
      "(0, 0, 3) 4\n",
      "(0, 1, 0) 5\n",
      "(0, 1, 1) 6\n",
      "(0, 1, 2) 7\n",
      "(0, 1, 3) 8\n"
     ]
    }
   ],
   "source": [
    "var2=np.array([[[1,2,3,4],[5,6,7,8]]])\n",
    "for i,d in np.ndenumerate(var2):\n",
    "    print(i,d)"
   ]
  },
  {
   "cell_type": "markdown",
   "id": "25d5108b-9664-4200-a336-bdd371d0bec3",
   "metadata": {},
   "source": [
    "# Copy vs View"
   ]
  },
  {
   "cell_type": "code",
   "execution_count": 52,
   "id": "4c531a1b-1b56-4b41-ba10-8383b4f6a642",
   "metadata": {},
   "outputs": [
    {
     "name": "stdout",
     "output_type": "stream",
     "text": [
      "Var: [10  2  3]\n",
      "Copy: [1 2 3]\n"
     ]
    }
   ],
   "source": [
    "var=np.array([1,2,3])\n",
    "\n",
    "co=var.copy()\n",
    "var[0]=10\n",
    "print(\"Var:\",var)\n",
    "print(\"Copy:\",co)\n"
   ]
  },
  {
   "cell_type": "code",
   "execution_count": 53,
   "id": "a9f00ef4-6267-4d4a-bdf5-1eb59e2881f0",
   "metadata": {},
   "outputs": [
    {
     "name": "stdout",
     "output_type": "stream",
     "text": [
      "Var: [10  8  7  6]\n",
      "View [10  8  7  6]\n"
     ]
    }
   ],
   "source": [
    "a=np.array([9,8,7,6])\n",
    "b=a.view()\n",
    "a[0]=10\n",
    "print(\"Var:\",a)\n",
    "print(\"View\",b)"
   ]
  },
  {
   "cell_type": "markdown",
   "id": "6e1e64ff-afb2-42f6-a26e-7edbd8ca4655",
   "metadata": {},
   "source": [
    "# Join Array"
   ]
  },
  {
   "cell_type": "code",
   "execution_count": 60,
   "id": "a1f9bc2f-6092-49a4-81ee-b04066253976",
   "metadata": {},
   "outputs": [
    {
     "name": "stdout",
     "output_type": "stream",
     "text": [
      "[1 2 3 4 5 6 7 8]\n"
     ]
    }
   ],
   "source": [
    "var1=np.array([1,2,3,4])\n",
    "var2=np.array([5,6,7,8])\n",
    "arr=np.concatenate((var1,var2))\n",
    "print(arr)"
   ]
  },
  {
   "cell_type": "code",
   "execution_count": 81,
   "id": "ce2c595e-24b8-4ace-a9ec-3f29a2ae7c0f",
   "metadata": {},
   "outputs": [
    {
     "name": "stdout",
     "output_type": "stream",
     "text": [
      "\n",
      "[[1 2 3 4]\n",
      " [5 6 7 8]]\n",
      "\n",
      "[1 2 3 4 5 6 7 8]\n",
      "\n",
      "[1 2 3 4 5 6 7 8]\n"
     ]
    }
   ],
   "source": [
    "var1=np.array([1,2,3,4])\n",
    "var2=np.array([5,6,7,8])\n",
    "c=np.vstack((var1,var2))  #colums\n",
    "d=np.hstack((var1,var2))  #rows\n",
    "e=np.hstack((var1,var2)) #heigth\n",
    "print()\n",
    "print(c)\n",
    "print()\n",
    "print(d)\n",
    "print()\n",
    "print(e)"
   ]
  },
  {
   "cell_type": "code",
   "execution_count": 67,
   "id": "b7a8fe01-59db-4501-843a-eae4c59c238c",
   "metadata": {},
   "outputs": [
    {
     "name": "stdout",
     "output_type": "stream",
     "text": [
      "[[1 2 3]\n",
      " [4 5 6]\n",
      " [7 8 9]\n",
      " [0 9 8]]\n",
      "\n",
      "[[1 2 3 7 8 9]\n",
      " [4 5 6 0 9 8]]\n",
      "\n",
      "[[1 2 3]\n",
      " [4 5 6]\n",
      " [7 8 9]\n",
      " [0 9 8]]\n"
     ]
    }
   ],
   "source": [
    "var3=np.array([[1,2,3],[4,5,6]])\n",
    "var4=np.array([[7,8,9],[0,9,8]])\n",
    "arr1=np.concatenate((var3,var4))\n",
    "arr2=np.concatenate((var3,var4),axis=1)\n",
    "arr3=np.concatenate((var3,var4),axis=0)\n",
    "print(arr1)\n",
    "print()\n",
    "print(arr2)\n",
    "print()\n",
    "print(arr3)"
   ]
  },
  {
   "cell_type": "code",
   "execution_count": 68,
   "id": "b26b4b90-7d0a-472c-a06d-1ad514b249d6",
   "metadata": {},
   "outputs": [],
   "source": [
    "# np.stack()"
   ]
  },
  {
   "cell_type": "code",
   "execution_count": 70,
   "id": "ef488a84-3d9c-4d89-b97e-b5d5ebc5ce73",
   "metadata": {},
   "outputs": [
    {
     "name": "stdout",
     "output_type": "stream",
     "text": [
      "[[[1 2 3]\n",
      "  [4 5 6]]\n",
      "\n",
      " [[7 8 9]\n",
      "  [0 9 8]]]\n"
     ]
    }
   ],
   "source": [
    "var3=np.array([[1,2,3],[4,5,6]])\n",
    "var4=np.array([[7,8,9],[0,9,8]])\n",
    "x=np.stack((var3,var4))\n",
    "print(x)"
   ]
  },
  {
   "cell_type": "code",
   "execution_count": 73,
   "id": "de1b53d4-a6e2-425c-9dc4-28e1f6a1837d",
   "metadata": {},
   "outputs": [
    {
     "name": "stdout",
     "output_type": "stream",
     "text": [
      "[[1 2 3]\n",
      " [4 5 6]\n",
      " [7 8 9]\n",
      " [0 9 8]]\n"
     ]
    }
   ],
   "source": [
    "var3=np.array([[1,2,3],[4,5,6]])\n",
    "var4=np.array([[7,8,9],[0,9,8]])\n",
    "x=np.vstack((var3,var4))\n",
    "print(x)"
   ]
  },
  {
   "cell_type": "code",
   "execution_count": 74,
   "id": "04208a93-85c1-4530-90fc-4c6187e066e5",
   "metadata": {},
   "outputs": [
    {
     "name": "stdout",
     "output_type": "stream",
     "text": [
      "[[1 2 3 7 8 9]\n",
      " [4 5 6 0 9 8]]\n"
     ]
    }
   ],
   "source": [
    "var3=np.array([[1,2,3],[4,5,6]])\n",
    "var4=np.array([[7,8,9],[0,9,8]])\n",
    "x=np.hstack((var3,var4))\n",
    "print(x)"
   ]
  },
  {
   "cell_type": "code",
   "execution_count": null,
   "id": "1c381cea-6250-4636-8b5f-3ee79b9c79b0",
   "metadata": {},
   "outputs": [],
   "source": []
  }
 ],
 "metadata": {
  "kernelspec": {
   "display_name": "Python 3 (ipykernel)",
   "language": "python",
   "name": "python3"
  },
  "language_info": {
   "codemirror_mode": {
    "name": "ipython",
    "version": 3
   },
   "file_extension": ".py",
   "mimetype": "text/x-python",
   "name": "python",
   "nbconvert_exporter": "python",
   "pygments_lexer": "ipython3",
   "version": "3.11.5"
  }
 },
 "nbformat": 4,
 "nbformat_minor": 5
}
